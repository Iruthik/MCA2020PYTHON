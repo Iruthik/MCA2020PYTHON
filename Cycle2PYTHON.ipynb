{
  "nbformat": 4,
  "nbformat_minor": 0,
  "metadata": {
    "colab": {
      "name": "C3PYTHON.ipynb",
      "provenance": [],
      "collapsed_sections": [],
      "authorship_tag": "ABX9TyNaKf/5zwQsUDkUqxT/kY06",
      "include_colab_link": true
    },
    "kernelspec": {
      "name": "python3",
      "display_name": "Python 3"
    }
  },
  "cells": [
    {
      "cell_type": "markdown",
      "metadata": {
        "id": "view-in-github",
        "colab_type": "text"
      },
      "source": [
        "<a href=\"https://colab.research.google.com/github/Iruthik/MCA2020PYTHON/blob/master/Cycle2PYTHON.ipynb\" target=\"_parent\"><img src=\"https://colab.research.google.com/assets/colab-badge.svg\" alt=\"Open In Colab\"/></a>"
      ]
    },
    {
      "cell_type": "code",
      "metadata": {
        "id": "BEpJ_RKQbSjD"
      },
      "source": [
        "# 1 printing leap years\r\n",
        "year=int(input(\"Enter year:\"))\r\n",
        "final_yr=int(input(\"Enter year:\"))\r\n",
        "flag=0\r\n",
        "count=0\r\n",
        "if ((year%4==0) and (year%100!=0)) or (year%400==0):\r\n",
        "  flag==1\r\n",
        "if (flag==1):\r\n",
        "  while(year<=final_yr):\r\n",
        "    print(year)\r\n",
        "    year=year+4\r\n",
        "else:\r\n",
        "  while(year<=final_yr):\r\n",
        "    if ((year%4==0) and (year%100!=0)) or (year%400==0):\r\n",
        "      print(year)\r\n",
        "    year=year+1\r\n"
      ],
      "execution_count": null,
      "outputs": []
    },
    {
      "cell_type": "code",
      "metadata": {
        "id": "JCeYGiQT_EC_"
      },
      "source": [
        "\r\n",
        "#2(a) generate positive list of numbers from given integers\r\n",
        "ls1=[10,-2,12,-8,9,15,20]\r\n",
        "for num in ls1:\r\n",
        "  if num>0:\r\n",
        "    print(num,end= \" \")\r\n"
      ],
      "execution_count": null,
      "outputs": []
    },
    {
      "cell_type": "code",
      "metadata": {
        "id": "460qXFH8qlLl"
      },
      "source": [
        "#2(b)squre of N numbers in list\r\n",
        "num=int(input(\"Enter the number:\"))\r\n",
        "lis1=[]\r\n",
        "for i in range(1,num+1):\r\n",
        "    squr=i*i\r\n",
        "    lis1.append(squr)\r\n",
        "print(lis1)"
      ],
      "execution_count": null,
      "outputs": []
    },
    {
      "cell_type": "code",
      "metadata": {
        "id": "EF4gQTZ_tu_8"
      },
      "source": [
        "#2(c)) Form a list of vowels selected from a given word\r\n",
        "word=(input(\"Enter a word:\"))\r\n",
        "vowel=[]\r\n",
        "for i in range(0,len(word)):\r\n",
        "  if (word[i]=='a' or word[i]=='A' or word[i]=='e' or word[i]=='E'\r\n",
        "   or word[i]=='i' or word[i]=='I' or word[i]=='o' or word[i]=='O'\r\n",
        "   or word[i]=='u' or word[i]=='U'):\r\n",
        "    vow=word[i]\r\n",
        "    vowel.append(vow)\r\n",
        "print(vowel)\r\n",
        "    "
      ],
      "execution_count": null,
      "outputs": []
    },
    {
      "cell_type": "code",
      "metadata": {
        "id": "lJtQT9aTxFgn"
      },
      "source": [
        "#2(d)) List ordinal value of each element of a word \r\n",
        "word=input(\"Enter word:\")\r\n",
        "ord_val=[]\r\n",
        "for i in range(0,len(word)):\r\n",
        "  value=ord(word[i])\r\n",
        "  ord_val.append(value)\r\n",
        "print(ord_val)  "
      ],
      "execution_count": null,
      "outputs": []
    },
    {
      "cell_type": "code",
      "metadata": {
        "id": "J23jOke4OEIs"
      },
      "source": [
        "#3Count the occurrences of each word in a line of text.\r\n",
        "  \r\n",
        "line=input(\"\\nEnter the line of string:\")\r\n",
        "part=input(\"\\nEnter the word to count:\")\r\n",
        "count=line.count(part)\r\n",
        "print(\"\\nThe count of given word in given line is:\",count)"
      ],
      "execution_count": null,
      "outputs": []
    },
    {
      "cell_type": "code",
      "metadata": {
        "id": "N41RbuiD4FCP"
      },
      "source": [
        "#4 to same value (c) whether any value occur in both\r\n",
        "\r\n",
        "lst = []\r\n",
        "n = int(input(\"Enter size of list or number of elements thet you wants to enter : \"))\r\n",
        "for i in range(0, n):\r\n",
        "    elem = int(input(\"Enter element:\"))\r\n",
        "    if(elem>=100):\r\n",
        "        lst.append('over')\r\n",
        "    else:\r\n",
        "        lst.append(elem)\r\n",
        "print(lst)"
      ],
      "execution_count": null,
      "outputs": []
    },
    {
      "cell_type": "code",
      "metadata": {
        "id": "ixVsch-57iAq"
      },
      "source": [
        "#5. Store a list of first names. Count the occurrences of ‘a’ within the list\r\n",
        "  \r\n",
        "lst=[]\r\n",
        "subs=\"a\"\r\n",
        "count=0\r\n",
        "n=int(input(\"\\nEnter the number of frst names:\"))\r\n",
        "for n in range(0,n):\r\n",
        "    fname=input(\"\\nEnter the name:\")\r\n",
        "    lst.append(fname)\r\n",
        "for x in lst:\r\n",
        "    if subs in x:\r\n",
        "        count=count+1\r\n",
        "        \r\n",
        "print(\"\\nThe list is:\",lst)\r\n",
        "print(\"\\nThe count of a in list is:\",count)"
      ],
      "execution_count": null,
      "outputs": []
    },
    {
      "cell_type": "code",
      "metadata": {
        "id": "CCshdzzToYHE"
      },
      "source": [
        "#6)Enter 2 lists of integers. Check (a) Whether list are of same length\r\n",
        "#(b) whether list sums to same value (c) whether any value occur in both\r\n",
        "\r\n",
        "list1=[]\r\n",
        "list2=[]\r\n",
        "sum1=0\r\n",
        "sum2=0\r\n",
        "n=int(input(\"\\nEnter the number of elements in 1st list:\"))\r\n",
        "for i in range(0,n):\r\n",
        "    fnum=input(\"\\nEnter the number:\")\r\n",
        "    list1.append(fnum)\r\n",
        "n2=int(input(\"\\nEnter the number of elements in 2nd list:\"))\r\n",
        "for j in range(0,n2):\r\n",
        "    fnum2=input(\"\\nEnter the number:\")\r\n",
        "    list2.append(fnum2)\r\n",
        "if(len(list1)==len(list2)):\r\n",
        "    print(\"\\nBoth lists are of length:\",len(list1))\r\n",
        "else:\r\n",
        "    print(\"\\nThe lists are not of same length!!\")\r\n",
        "for k in range(0,n):\r\n",
        "   sum1=sum1+int(list1[k])\r\n",
        "for l in range(0,n2):\r\n",
        "   sum2=sum2+int(list2[l])\r\n",
        "if sum1==sum2:\r\n",
        "    print(\"\\nLists are of same sum!!\")\r\n",
        "else:\r\n",
        "    print(\"\\nlists are not of same sum!!\")\r\n",
        "for i in range(0,n):\r\n",
        "    for j in range(0,n2):\r\n",
        "        if(list1[i]==list2[j]):\r\n",
        "            print(\"\\n%s is present in both lists!\"%list1[i])\r\n",
        "        \r\n",
        "print(\"\\nNo repetition in lists!\")\r\n",
        "\r\n",
        "  \r\n"
      ],
      "execution_count": null,
      "outputs": []
    },
    {
      "cell_type": "code",
      "metadata": {
        "id": "XdAfdCZ2yoN_"
      },
      "source": [
        "#7Get a string from an input string where all occurrences of first character replaced with ‘$’, except first character.\r\n",
        "\r\n",
        "word=input(\"Enter String:\")\r\n",
        "ls=[]\r\n",
        "ls.append(word[0])\r\n",
        "for i in range(1,len(word)):\r\n",
        "    if(word[i]==word[0]):\r\n",
        "        ls.append('$')\r\n",
        "    else:\r\n",
        "        ls.append(word[i])\r\n",
        "print(ls)"
      ],
      "execution_count": null,
      "outputs": []
    },
    {
      "cell_type": "code",
      "metadata": {
        "id": "TOkc3D5W3_3W"
      },
      "source": [
        "#8Create a string from given string where first and last characters exchanged. \r\n",
        "word=input(\"Enter String:\")\r\n",
        "modified=word[-1]+word[1:-1]+word[0]\r\n",
        "print(modified)"
      ],
      "execution_count": null,
      "outputs": []
    },
    {
      "cell_type": "code",
      "metadata": {
        "id": "ndKrTTSWXeKS"
      },
      "source": [
        "#9Accept the radius from user and find area of circle.\r\n",
        "rad=int(input(\"Enter radius:\"))\r\n",
        "pi=3.14\r\n",
        "area=pi*rad*rad\r\n",
        "print(\"Area of circle\"+str(area))"
      ],
      "execution_count": null,
      "outputs": []
    },
    {
      "cell_type": "code",
      "metadata": {
        "id": "EW_g2zbsZ_uK"
      },
      "source": [
        "#10 Find biggest of 3 numbers entered.\r\n",
        "num1=int(input(\"Enter first number:\"))\r\n",
        "num2=int(input(\"Enter second number:\"))\r\n",
        "num3=int(input(\"Enter third number:\"))\r\n",
        "if num1>num2 and num1>num3:\r\n",
        "  print(\"Greater number\"+str(num1))\r\n",
        "elif num2>num1 and num2>num3:\r\n",
        "  print(\"Greater number\"+str(num2))  \r\n",
        "else:\r\n",
        "  print(\"Greater number\"+str(num3)) \r\n",
        "  "
      ],
      "execution_count": null,
      "outputs": []
    },
    {
      "cell_type": "code",
      "metadata": {
        "id": "EpHpiQpFi8y6",
        "colab": {
          "base_uri": "https://localhost:8080/"
        },
        "outputId": "86d098b9-8e5e-4383-e1b6-01b8511d5084"
      },
      "source": [
        "#11. Accept a file name from user and print extension of that.\r\n",
        "filename = input(\"Input the Filename: \")\r\n",
        "extension= filename.split(\".\")\r\n",
        "print (\"The extension of the file is : \" + extension[-1])\r\n"
      ],
      "execution_count": null,
      "outputs": [
        {
          "output_type": "stream",
          "text": [
            "Input the Filename: hi.c\n",
            "The extension of the file is : c\n"
          ],
          "name": "stdout"
        }
      ]
    },
    {
      "cell_type": "code",
      "metadata": {
        "id": "tbbz8eL2X789"
      },
      "source": [
        "#12Create a list of colors from comma-separated color names entered by user. Display first and last colors.\r\n",
        "colors=[]\r\n",
        "limit=int(input(\"Enter number of colors:\"))\r\n",
        "for i in range(0,limit):\r\n",
        "   co=input(\"Enter color:\")\r\n",
        "   colors.append(co)\r\n",
        "print(\"first color:\"+colors[0]+\"\\nlast color:\"+colors[-1])"
      ],
      "execution_count": null,
      "outputs": []
    },
    {
      "cell_type": "code",
      "metadata": {
        "id": "9drG8Oz9Zzk-"
      },
      "source": [
        "#13. Accept an integer n and compute n+nn+nnn.\r\n",
        "n=int(input(\"Enter number:\"))\r\n",
        "sum = 0\r\n",
        "for i in range(0, 3):\r\n",
        "   sum = sum+int(str(n)+( i*str(n)))\r\n",
        "print(sum)\r\n"
      ],
      "execution_count": null,
      "outputs": []
    },
    {
      "cell_type": "code",
      "metadata": {
        "id": "V5UKfNB4s8nZ",
        "colab": {
          "base_uri": "https://localhost:8080/"
        },
        "outputId": "a66e3b68-0e2d-4b2d-8870-3d64ba8fbb59"
      },
      "source": [
        "#14 Print out all colors from color-list1 not contained in color-list2.\r\n",
        "color_list_1 =set()\r\n",
        "color_list_2 = set()\r\n",
        "limit1=int(input(\"Enter l1 limit:\"))\r\n",
        "limit2=int(input(\"Enter l2 limit:\"))\r\n",
        "for i in range(0,limit1):\r\n",
        "   color1=input(\"Enter color to l1:\")\r\n",
        "   color_list_1.add(color1)\r\n",
        "for j in range(0,limit2):\r\n",
        "   color2=input(\"Enter color to l2:\")\r\n",
        "   color_list_2.add(color2)\r\n",
        "print(color_list_1.difference(color_list_2))\r\n",
        "    \r\n"
      ],
      "execution_count": 1,
      "outputs": [
        {
          "output_type": "stream",
          "text": [
            "Enter l1 limit:3\n",
            "Enter l2 limit:2\n",
            "Enter color to l1:red\n",
            "Enter color to l1:green\n",
            "Enter color to l1:blue\n",
            "Enter color to l2:red\n",
            "Enter color to l2:green\n",
            "{'blue'}\n"
          ],
          "name": "stdout"
        }
      ]
    },
    {
      "cell_type": "code",
      "metadata": {
        "id": "7SsC_VF0C0QQ"
      },
      "source": [
        "\r\n",
        "\r\n"
      ],
      "execution_count": null,
      "outputs": []
    }
  ]
}