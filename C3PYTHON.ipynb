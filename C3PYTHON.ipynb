{
  "nbformat": 4,
  "nbformat_minor": 0,
  "metadata": {
    "colab": {
      "name": "C3PYTHON.ipynb",
      "provenance": [],
      "collapsed_sections": [],
      "authorship_tag": "ABX9TyMjHZUHTQWR7w0xGPVHpCn8",
      "include_colab_link": true
    },
    "kernelspec": {
      "name": "python3",
      "display_name": "Python 3"
    }
  },
  "cells": [
    {
      "cell_type": "markdown",
      "metadata": {
        "id": "view-in-github",
        "colab_type": "text"
      },
      "source": [
        "<a href=\"https://colab.research.google.com/github/Iruthik/MCA2020PYTHON/blob/master/C3PYTHON.ipynb\" target=\"_parent\"><img src=\"https://colab.research.google.com/assets/colab-badge.svg\" alt=\"Open In Colab\"/></a>"
      ]
    },
    {
      "cell_type": "code",
      "metadata": {
        "id": "BEpJ_RKQbSjD"
      },
      "source": [
        "# 1 printing leap years\r\n",
        "year=int(input(\"Enter year:\"))\r\n",
        "final_yr=int(input(\"Enter year:\"))\r\n",
        "flag=0\r\n",
        "count=0\r\n",
        "if ((year%4==0) and (year%100!=0)) or (year%400==0):\r\n",
        "  flag==1\r\n",
        "if (flag==1):\r\n",
        "  while(year<=final_yr):\r\n",
        "    print(year)\r\n",
        "    year=year+4\r\n",
        "else:\r\n",
        "  while(year<=final_yr):\r\n",
        "    if ((year%4==0) and (year%100!=0)) or (year%400==0):\r\n",
        "      print(year)\r\n",
        "    year=year+1\r\n"
      ],
      "execution_count": null,
      "outputs": []
    },
    {
      "cell_type": "code",
      "metadata": {
        "id": "JCeYGiQT_EC_"
      },
      "source": [
        "\r\n",
        "#2(a) generate positive list of numbers from given integers\r\n",
        "ls1=[10,-2,12,-8,9,15,20]\r\n",
        "for num in ls1:\r\n",
        "  if num>0:\r\n",
        "    print(num,end= \" \")\r\n"
      ],
      "execution_count": null,
      "outputs": []
    },
    {
      "cell_type": "code",
      "metadata": {
        "id": "460qXFH8qlLl"
      },
      "source": [
        "#2(b)squre of N numbers in list\r\n",
        "num=int(input(\"Enter the number:\"))\r\n",
        "lis1=[]\r\n",
        "for i in range(1,num+1):\r\n",
        "    squr=i*i\r\n",
        "    lis1.append(squr)\r\n",
        "print(lis1)"
      ],
      "execution_count": null,
      "outputs": []
    },
    {
      "cell_type": "code",
      "metadata": {
        "id": "EF4gQTZ_tu_8"
      },
      "source": [
        "#2(c)) Form a list of vowels selected from a given word\r\n",
        "word=(input(\"Enter a word:\"))\r\n",
        "vowel=[]\r\n",
        "for i in range(0,len(word)):\r\n",
        "  if (word[i]=='a' or word[i]=='A' or word[i]=='e' or word[i]=='E'\r\n",
        "   or word[i]=='i' or word[i]=='I' or word[i]=='o' or word[i]=='O'\r\n",
        "   or word[i]=='u' or word[i]=='U'):\r\n",
        "    vow=word[i]\r\n",
        "    vowel.append(vow)\r\n",
        "print(vowel)\r\n",
        "    "
      ],
      "execution_count": null,
      "outputs": []
    },
    {
      "cell_type": "code",
      "metadata": {
        "id": "lJtQT9aTxFgn"
      },
      "source": [
        "#2(d)) List ordinal value of each element of a word \r\n",
        "word=input(\"Enter word:\")\r\n",
        "ord_val=[]\r\n",
        "for i in range(0,len(word)):\r\n",
        "  value=ord(word[i])\r\n",
        "  ord_val.append(value)\r\n",
        "print(ord_val)  "
      ],
      "execution_count": null,
      "outputs": []
    },
    {
      "cell_type": "code",
      "metadata": {
        "id": "J23jOke4OEIs"
      },
      "source": [
        "#3Count the occurrences of each word in a line of text.\r\n",
        "  \r\n",
        "line=input(\"\\nEnter the line of string:\")\r\n",
        "part=input(\"\\nEnter the word to count:\")\r\n",
        "count=line.count(part)\r\n",
        "print(\"\\nThe count of given word in given line is:\",count)"
      ],
      "execution_count": null,
      "outputs": []
    },
    {
      "cell_type": "code",
      "metadata": {
        "id": "N41RbuiD4FCP"
      },
      "source": [
        "#4 \r\n",
        "lst = []\r\n",
        "n = int(input(\"Enter size of list or number of elements thet you wants to enter : \"))\r\n",
        "for i in range(0, n):\r\n",
        "    elem = int(input(\"Enter element:\"))\r\n",
        "    if(elem>=100):\r\n",
        "        lst.append('over')\r\n",
        "    else:\r\n",
        "        lst.append(elem)\r\n",
        "print(lst)"
      ],
      "execution_count": null,
      "outputs": []
    },
    {
      "cell_type": "code",
      "metadata": {
        "id": "ixVsch-57iAq"
      },
      "source": [
        "#5. Store a list of first names. Count the occurrences of ‘a’ within the list\r\n",
        "  \r\n",
        "lst=[]\r\n",
        "subs=\"a\"\r\n",
        "count=0\r\n",
        "n=int(input(\"\\nEnter the number of frst names:\"))\r\n",
        "for n in range(0,n):\r\n",
        "    fname=input(\"\\nEnter the name:\")\r\n",
        "    lst.append(fname)\r\n",
        "for x in lst:\r\n",
        "    if subs in x:\r\n",
        "        count=count+1\r\n",
        "        \r\n",
        "print(\"\\nThe list is:\",lst)\r\n",
        "print(\"\\nThe count of a in list is:\",count)"
      ],
      "execution_count": null,
      "outputs": []
    }
  ]
}